{
 "cells": [
  {
   "cell_type": "markdown",
   "id": "bf238feb",
   "metadata": {},
   "source": [
    "# 13 Classification Task dengan Naive Bayes"
   ]
  },
  {
   "cell_type": "markdown",
   "id": "e16169ab",
   "metadata": {},
   "source": [
    "# Bayes' Theorem\n",
    "\n",
    "Bayes' theorem menawarkan suatu formula untuk menghitung nilai probability dari suatu event dengan memanfaatkan pengetahuan sebelumnya dari kondisi terkait; atau seringkali dikenal dengan istilah conditional probability."
   ]
  },
  {
   "cell_type": "markdown",
   "id": "d5dc459c",
   "metadata": {},
   "source": [
    "# Pengenalan Naive Bayes Classification"
   ]
  },
  {
   "cell_type": "markdown",
   "id": "c0c1ff90",
   "metadata": {},
   "source": [
    "## Studi Kasus 1\n",
    "\n",
    "| Asep | Joko |\n",
    "| :---: | :---: |\n",
    "| + Siomay: 0.1 | + siomay: 0.5 |\n",
    "| + bakso: 0.8 | + bakso: 0.2 |\n",
    "| + lumpia: 0.1 | + lumpia: 0.3 |\n",
    "\n",
    "**Misi:** Lakukan prediksi siapa yang melakukan pemesanan dengan diketahui pemesanannya adalah **lumpia** dan **bakso**.\n",
    "\n",
    "***Prior Probability: P(y)***\n",
    "\n",
    "- ***P(Asep)*** = 0.5\n",
    "- ***P(Joko)*** = 0.5\n",
    "\n",
    "***Likelihood: P(X|y)***\n",
    "\n",
    "- Asep:\n",
    "    ```bash\n",
    "    P(lumpia, bakso|Asep) = (0.1 * 0.8)\n",
    "                          = 0.08\n",
    "    ```\n",
    "- Joko:\n",
    "    ```bash\n",
    "    P(lumpia, bakso|Joko) = (0.3 * 0.2)\n",
    "                          = 0.06\n",
    "    ```\n",
    "\n",
    "***Evidence atau Normalizer***\n",
    "\n",
    "```bash\n",
    "        Evidence = ∑(Likelihood * Prior)\n",
    "P(lumpia, bakso) = (0.08 * 0.5) + (0.06 * 0.5)\n",
    "                 = 0.07\n",
    "```\n",
    "\n",
    "***Posterior Probability: P(y|X)***\n",
    "\n",
    "- Formula:\n",
    "    ```bash\n",
    "    Posterior = (Likelihood * Prior) / Evidence\n",
    "    ```\n",
    "- Asep:\n",
    "    ```bash\n",
    "    P(Asep|lumpia, bakso) = (0.08 * 0.5) / 0.07\n",
    "                          = 0.57\n",
    "    ```\n",
    "- Joko:\n",
    "    ```bash\n",
    "    P(Joko|lumpia, bakso) = (0.06 * 0.5) / 0.07\n",
    "                          = 0.43\n",
    "    ```\n"
   ]
  },
  {
   "cell_type": "markdown",
   "id": "23040303",
   "metadata": {},
   "source": [
    "## Studi Kasus 2\n",
    "\n",
    "| Asep | Joko |\n",
    "| :---: | :---: |\n",
    "| + Siomay: 0.1 | + siomay: 0.5 |\n",
    "| + bakso: 0.8 | + bakso: 0.2 |\n",
    "| + lumpia: 0.1 | + lumpia: 0.3 |\n",
    "\n",
    "**Misi:** Lakukan prediksi siapa pelanggan yang melakukan pemesanan dengan diketahui pesanannya adalah **siomay** dan **bakso**.\n",
    "\n",
    "***Posterior Probability: P(y|X) (Kasus 2)***\n",
    "\n",
    "- Pesanan: siomay, bakso\n",
    "- Evidence: P(X)\n",
    "    ```bash\n",
    "    P(siomay, bakso) = (0.1 * 0.8 * 0.5) + (0.5 * 0.2 * 0.5)\n",
    "                     = 0.09\n",
    "    ```\n",
    "- Asep:\n",
    "    ```bash\n",
    "    P(Asep|siomay, bakso) = ((0.1 * 0.8) * 0.5) / 0.09\n",
    "                          = 0.444\n",
    "    ```\n",
    "- Joko:\n",
    "    ```bash\n",
    "    P(Joko|siomay, bakso) = ((0.5 * 0.2) * 0.5) / 0.09\n",
    "                          = 0.555\n",
    "    ```"
   ]
  },
  {
   "cell_type": "markdown",
   "id": "9fbf1421",
   "metadata": {},
   "source": [
    "# Mengapa disebut Naive?\n",
    "\n",
    "- Karena sewaktu kita mendefinisikan Likelihood ***P(lumpia, bakso|Asep)***.\n",
    "- Kita Mengasumsikan ***P(lumpia|Asep)*** conditionally independent terhadap ***P(bakso|Asep)***; demikian sebaliknya.\n",
    "- sehingga dapat dinformasikan sebagai berikut: ***P(lumpia, bakso|Asep) = P(lumpia|Asep) * P(bakso|Asep)***"
   ]
  },
  {
   "cell_type": "markdown",
   "id": "2f03593d",
   "metadata": {},
   "source": [
    "# Dataset: Breast Cancer Wisconsin (Diagnostic)\n",
    "\n",
    "Referensi: https://archive.ics.uci.edu/dataset/17/breast+cancer+wisconsin+diagnostic"
   ]
  },
  {
   "cell_type": "markdown",
   "id": "6e8afe0b",
   "metadata": {},
   "source": [
    "## Load Dataset"
   ]
  },
  {
   "cell_type": "code",
   "execution_count": 34,
   "id": "b2c2d34e",
   "metadata": {},
   "outputs": [
    {
     "name": "stdout",
     "output_type": "stream",
     "text": [
      ".. _breast_cancer_dataset:\n",
      "\n",
      "Breast cancer Wisconsin (diagnostic) dataset\n",
      "--------------------------------------------\n",
      "\n",
      "**Data Set Characteristics:**\n",
      "\n",
      ":Number of Instances: 569\n",
      "\n",
      ":Number of Attributes: 30 numeric, predictive attributes and the class\n",
      "\n",
      ":Attribute Information:\n",
      "    - radius (mean of distances from center to points on the perimeter)\n",
      "    - texture (standard deviation of gray-scale values)\n",
      "    - perimeter\n",
      "    - area\n",
      "    - smoothness (local variation in radius lengths)\n",
      "    - compactness (perimeter^2 / area - 1.0)\n",
      "    - concavity (severity of concave portions of the contour)\n",
      "    - concave points (number of concave portions of the contour)\n",
      "    - symmetry\n",
      "    - fractal dimension (\"coastline approximation\" - 1)\n",
      "\n",
      "    The mean, standard error, and \"worst\" or largest (mean of the three\n",
      "    worst/largest values) of these features were computed for each image,\n",
      "    resulting in 30 features.  For instance, field 0 is Mean Radius, field\n",
      "    10 is Radius SE, field 20 is Worst Radius.\n",
      "\n",
      "    - class:\n",
      "            - WDBC-Malignant\n",
      "            - WDBC-Benign\n",
      "\n",
      ":Summary Statistics:\n",
      "\n",
      "===================================== ====== ======\n",
      "                                        Min    Max\n",
      "===================================== ====== ======\n",
      "radius (mean):                        6.981  28.11\n",
      "texture (mean):                       9.71   39.28\n",
      "perimeter (mean):                     43.79  188.5\n",
      "area (mean):                          143.5  2501.0\n",
      "smoothness (mean):                    0.053  0.163\n",
      "compactness (mean):                   0.019  0.345\n",
      "concavity (mean):                     0.0    0.427\n",
      "concave points (mean):                0.0    0.201\n",
      "symmetry (mean):                      0.106  0.304\n",
      "fractal dimension (mean):             0.05   0.097\n",
      "radius (standard error):              0.112  2.873\n",
      "texture (standard error):             0.36   4.885\n",
      "perimeter (standard error):           0.757  21.98\n",
      "area (standard error):                6.802  542.2\n",
      "smoothness (standard error):          0.002  0.031\n",
      "compactness (standard error):         0.002  0.135\n",
      "concavity (standard error):           0.0    0.396\n",
      "concave points (standard error):      0.0    0.053\n",
      "symmetry (standard error):            0.008  0.079\n",
      "fractal dimension (standard error):   0.001  0.03\n",
      "radius (worst):                       7.93   36.04\n",
      "texture (worst):                      12.02  49.54\n",
      "perimeter (worst):                    50.41  251.2\n",
      "area (worst):                         185.2  4254.0\n",
      "smoothness (worst):                   0.071  0.223\n",
      "compactness (worst):                  0.027  1.058\n",
      "concavity (worst):                    0.0    1.252\n",
      "concave points (worst):               0.0    0.291\n",
      "symmetry (worst):                     0.156  0.664\n",
      "fractal dimension (worst):            0.055  0.208\n",
      "===================================== ====== ======\n",
      "\n",
      ":Missing Attribute Values: None\n",
      "\n",
      ":Class Distribution: 212 - Malignant, 357 - Benign\n",
      "\n",
      ":Creator:  Dr. William H. Wolberg, W. Nick Street, Olvi L. Mangasarian\n",
      "\n",
      ":Donor: Nick Street\n",
      "\n",
      ":Date: November, 1995\n",
      "\n",
      "This is a copy of UCI ML Breast Cancer Wisconsin (Diagnostic) datasets.\n",
      "https://goo.gl/U2Uwz2\n",
      "\n",
      "Features are computed from a digitized image of a fine needle\n",
      "aspirate (FNA) of a breast mass.  They describe\n",
      "characteristics of the cell nuclei present in the image.\n",
      "\n",
      "Separating plane described above was obtained using\n",
      "Multisurface Method-Tree (MSM-T) [K. P. Bennett, \"Decision Tree\n",
      "Construction Via Linear Programming.\" Proceedings of the 4th\n",
      "Midwest Artificial Intelligence and Cognitive Science Society,\n",
      "pp. 97-101, 1992], a classification method which uses linear\n",
      "programming to construct a decision tree.  Relevant features\n",
      "were selected using an exhaustive search in the space of 1-4\n",
      "features and 1-3 separating planes.\n",
      "\n",
      "The actual linear program used to obtain the separating plane\n",
      "in the 3-dimensional space is that described in:\n",
      "[K. P. Bennett and O. L. Mangasarian: \"Robust Linear\n",
      "Programming Discrimination of Two Linearly Inseparable Sets\",\n",
      "Optimization Methods and Software 1, 1992, 23-34].\n",
      "\n",
      "This database is also available through the UW CS ftp server:\n",
      "\n",
      "ftp ftp.cs.wisc.edu\n",
      "cd math-prog/cpo-dataset/machine-learn/WDBC/\n",
      "\n",
      ".. dropdown:: References\n",
      "\n",
      "  - W.N. Street, W.H. Wolberg and O.L. Mangasarian. Nuclear feature extraction\n",
      "    for breast tumor diagnosis. IS&T/SPIE 1993 International Symposium on\n",
      "    Electronic Imaging: Science and Technology, volume 1905, pages 861-870,\n",
      "    San Jose, CA, 1993.\n",
      "  - O.L. Mangasarian, W.N. Street and W.H. Wolberg. Breast cancer diagnosis and\n",
      "    prognosis via linear programming. Operations Research, 43(4), pages 570-577,\n",
      "    July-August 1995.\n",
      "  - W.H. Wolberg, W.N. Street, and O.L. Mangasarian. Machine learning techniques\n",
      "    to diagnose breast cancer from fine-needle aspirates. Cancer Letters 77 (1994)\n",
      "    163-171.\n",
      "\n"
     ]
    }
   ],
   "source": [
    "from sklearn.datasets import load_breast_cancer\n",
    "\n",
    "print(load_breast_cancer().DESCR)"
   ]
  },
  {
   "cell_type": "code",
   "execution_count": 35,
   "id": "c5de073a",
   "metadata": {},
   "outputs": [
    {
     "data": {
      "text/plain": [
       "(569, 30)"
      ]
     },
     "execution_count": 35,
     "metadata": {},
     "output_type": "execute_result"
    }
   ],
   "source": [
    "# load_breast_cancer?\n",
    "X, y = load_breast_cancer(return_X_y=True)\n",
    "X.shape"
   ]
  },
  {
   "cell_type": "markdown",
   "id": "bd5e94ef",
   "metadata": {},
   "source": [
    "## Training & Testing Set"
   ]
  },
  {
   "cell_type": "code",
   "execution_count": 36,
   "id": "7828a7ec",
   "metadata": {},
   "outputs": [
    {
     "name": "stdout",
     "output_type": "stream",
     "text": [
      "X_train Shape: (455, 30)\n",
      "X_test Shape: (114, 30)\n"
     ]
    }
   ],
   "source": [
    "from sklearn.model_selection import train_test_split\n",
    "\n",
    "X_train, X_test, y_train, y_test = train_test_split(X,\n",
    "                                                    y,\n",
    "                                                    test_size=0.2,\n",
    "                                                    random_state=0)\n",
    "\n",
    "print(f'X_train Shape: {X_train.shape}')\n",
    "print(f'X_test Shape: {X_test.shape}')"
   ]
  },
  {
   "cell_type": "markdown",
   "id": "c976bb61",
   "metadata": {},
   "source": [
    "# Naive Bayes dengan Scikit Learn "
   ]
  },
  {
   "cell_type": "code",
   "execution_count": 37,
   "id": "9c71409e",
   "metadata": {},
   "outputs": [
    {
     "data": {
      "text/plain": [
       "0.9298245614035088"
      ]
     },
     "execution_count": 37,
     "metadata": {},
     "output_type": "execute_result"
    }
   ],
   "source": [
    "from sklearn.naive_bayes import GaussianNB\n",
    "from sklearn.metrics import accuracy_score\n",
    "\n",
    "model = GaussianNB()\n",
    "model.fit(X_train, y_train)\n",
    "y_pred = model.predict(X_test)\n",
    "accuracy_score(y_test, y_pred)"
   ]
  },
  {
   "cell_type": "code",
   "execution_count": 38,
   "id": "7aa5f144",
   "metadata": {},
   "outputs": [
    {
     "data": {
      "text/plain": [
       "0.9298245614035088"
      ]
     },
     "execution_count": 38,
     "metadata": {},
     "output_type": "execute_result"
    }
   ],
   "source": [
    "model.score(X_test, y_test)"
   ]
  }
 ],
 "metadata": {
  "kernelspec": {
   "display_name": "Python 3",
   "language": "python",
   "name": "python3"
  },
  "language_info": {
   "codemirror_mode": {
    "name": "ipython",
    "version": 3
   },
   "file_extension": ".py",
   "mimetype": "text/x-python",
   "name": "python",
   "nbconvert_exporter": "python",
   "pygments_lexer": "ipython3",
   "version": "3.10.6"
  }
 },
 "nbformat": 4,
 "nbformat_minor": 5
}
