{
 "cells": [
  {
   "cell_type": "code",
   "execution_count": 2,
   "id": "b09a165f-e0a5-4ab1-8ae5-42454eea59b2",
   "metadata": {},
   "outputs": [
    {
     "name": "stdout",
     "output_type": "stream",
     "text": [
      "Hello World\n"
     ]
    }
   ],
   "source": [
    "print(\"Hello World\")"
   ]
  },
  {
   "cell_type": "code",
   "execution_count": 3,
   "id": "8d8bc9fb-7ef7-444f-aa4e-7529a9bf296f",
   "metadata": {},
   "outputs": [
    {
     "data": {
      "text/plain": [
       "176"
      ]
     },
     "execution_count": 3,
     "metadata": {},
     "output_type": "execute_result"
    }
   ],
   "source": [
    "78+98"
   ]
  },
  {
   "cell_type": "markdown",
   "id": "7c5c9014-8517-4643-822a-bcd203748397",
   "metadata": {},
   "source": [
    "# Judul"
   ]
  },
  {
   "cell_type": "markdown",
   "id": "9440e755-d4f3-4839-a9c7-12c854583f18",
   "metadata": {},
   "source": [
    "## Subjudul 1"
   ]
  },
  {
   "cell_type": "markdown",
   "id": "1188549a-bf7b-4273-9fa0-5bd1c45753ba",
   "metadata": {},
   "source": [
    "### Subjudul 2"
   ]
  },
  {
   "cell_type": "code",
   "execution_count": 4,
   "id": "84245888-fe0c-4baf-adc3-bddc2a7d37f5",
   "metadata": {},
   "outputs": [
    {
     "name": "stdout",
     "output_type": "stream",
     "text": [
      "1\n"
     ]
    }
   ],
   "source": [
    "a = 1\n",
    "print(a)"
   ]
  },
  {
   "cell_type": "code",
   "execution_count": null,
   "id": "d4f0f00b-d7d1-4d1a-b929-af11ac38e82a",
   "metadata": {},
   "outputs": [],
   "source": []
  }
 ],
 "metadata": {
  "kernelspec": {
   "display_name": "Python 3",
   "language": "python",
   "name": "python3"
  },
  "language_info": {
   "codemirror_mode": {
    "name": "ipython",
    "version": 3
   },
   "file_extension": ".py",
   "mimetype": "text/x-python",
   "name": "python",
   "nbconvert_exporter": "python",
   "pygments_lexer": "ipython3",
   "version": "3.10.6"
  }
 },
 "nbformat": 4,
 "nbformat_minor": 5
}
